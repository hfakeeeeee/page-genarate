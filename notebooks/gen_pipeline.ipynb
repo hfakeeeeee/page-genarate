{
 "cells": [
  {
   "cell_type": "code",
   "execution_count": 27,
   "id": "d5a63b7c",
   "metadata": {},
   "outputs": [],
   "source": [
    "import json\n",
    "import os\n",
    "import re\n",
    "from openai import AzureOpenAI\n",
    "\n",
    "ENDPOINT=\"https://dhp-search-east-npe-0.openai.azure.com/\"\n",
    "MODEL=\"gpt-4.1\"\n",
    "API_VERSION=\"2024-02-01\"\n",
    "AZURE_OPEN_AI_API_KEY=\"2b91e7e1eb07487da18661da47fa1566\"\n",
    "\n",
    "openai_client = AzureOpenAI(\n",
    "    api_version=API_VERSION,\n",
    "    azure_endpoint=ENDPOINT,\n",
    "    api_key=AZURE_OPEN_AI_API_KEY\n",
    ")\n",
    "\n",
    "def write_file(m_code, path):\n",
    "    \n",
    "    match = re.search(r\"```(?:\\w+)?\\n(.*?)```\", m_code, re.DOTALL)\n",
    "    if not match:\n",
    "        raise ValueError(\"No code block foud\")\n",
    "    \n",
    "    code = match.group(1).strip()\n",
    "    os.makedirs(os.path.dirname(path), exist_ok=True)\n",
    "    with open(path, \"w\", encoding=\"utf-8\") as f:\n",
    "        f.write(code)\n",
    "        print(\"Writed to\", path)\n",
    "\n",
    "def read_json(path):\n",
    "    with open(path, \"r\", encoding=\"utf-8\") as f:\n",
    "        return json.load(f)\n",
    "\n",
    "def write_json_str(json_string, path):\n",
    "    os.makedirs(os.path.dirname(path), exist_ok=True)\n",
    "    with open(path, \"w\", encoding=\"utf-8\") as f:\n",
    "        f.write(json_string)\n",
    "\n",
    "def load_prompt_template(path: str) -> str:\n",
    "    with open(path, \"r\", encoding=\"utf-8\") as file:\n",
    "        return file.read()\n",
    "    \n",
    "def call_llm(user_instruction: str, system_instruction: str) -> str:\n",
    "    conversation = [\n",
    "        {\"role\": \"system\", \"content\": system_instruction},\n",
    "        {\"role\": \"user\", \"content\": user_instruction}\n",
    "    ]\n",
    "\n",
    "    response = openai_client.chat.completions.create(\n",
    "                    model=MODEL,\n",
    "                    messages=conversation,\n",
    "                    timeout=600,\n",
    "                    temperature=0.0)\n",
    "    \n",
    "    return response.choices[0].message.content"
   ]
  },
  {
   "cell_type": "markdown",
   "id": "08948c13",
   "metadata": {},
   "source": [
    "# Work flow\n",
    "\n",
    "Step 1 - Gen Source : Plan Project -> List[Page] -> Generate each Page\n",
    "\n",
    "Step 2 - Copy base project -> Write to file to the base project\n",
    "\n",
    "Step 3 - Zip the project\n",
    "\n",
    "Step 4 - Upload to Azure File Share\n",
    "\n",
    "Step 5 - Allow user download\n",
    "\n",
    "\n",
    "--------------------------------------------------------------------------------------------"
   ]
  },
  {
   "cell_type": "code",
   "execution_count": 28,
   "id": "7061d7bc",
   "metadata": {},
   "outputs": [],
   "source": [
    "# Load prompts\n",
    "\n",
    "router_plan_sys = load_prompt_template(\"../prompts/router/router-plan-sys.md\")\n",
    "router_gen_user = load_prompt_template(\"../prompts/router/router-gen-user.md\")\n",
    "\n",
    "css_variables = load_prompt_template(\"../prompts/css/variables_small.md\")\n",
    "css_selectors = load_prompt_template(\"../prompts/css/selectors.md\")\n",
    "\n",
    "output_path = \"../output\""
   ]
  },
  {
   "cell_type": "code",
   "execution_count": 29,
   "id": "f3ad7bc6",
   "metadata": {},
   "outputs": [
    {
     "data": {
      "text/plain": [
       "'Create a detailed project plan for a website based on the specified requirements:\\n\\nFramework: React\\nLanguage: JS\\nProject Requirements: Create a modern online bookstore that allows users to browse, search books.'"
      ]
     },
     "execution_count": 29,
     "metadata": {},
     "output_type": "execute_result"
    }
   ],
   "source": [
    "# Project Plan\n",
    "framework = \"React\"\n",
    "language = \"JS\"\n",
    "project_plan_sys = load_prompt_template(\"../prompts/project/project-plan-sys.md\")\n",
    "project_plan_user = load_prompt_template(\"../prompts/project/project-plan-user.md\").format(FRAMEWORK=framework, LANGUAGE=language, USER_REQUIREMENT=\"Create a modern online bookstore that allows users to browse, search books.\")\n",
    "project_plan_user"
   ]
  },
  {
   "cell_type": "code",
   "execution_count": 30,
   "id": "5008a13b",
   "metadata": {},
   "outputs": [],
   "source": [
    "project_plan_json = call_llm(user_instruction=project_plan_user, system_instruction=project_plan_sys)\n",
    "write_json_str(project_plan_json, f\"{output_path}/project/project-plan.json\")"
   ]
  },
  {
   "cell_type": "code",
   "execution_count": 31,
   "id": "f8cf87bd",
   "metadata": {},
   "outputs": [
    {
     "name": "stdout",
     "output_type": "stream",
     "text": [
      "Your are a senior frontend engineer. Generate a single Page component that is production-ready, minimal and uses the project's custom CSS library (see rules below).\n",
      "The project was scaffolded with Vite; do not use Node-only globals or APIs.\n",
      "\n",
      "## Inputs (provided by user)\n",
      "- `project_plan`: an object that includes the framework, language, brief summary of the site and all the pages.\n",
      "- `page_name`: the target page to generate. The page's full description must be looked up from `project_plan.pages` by name.\n",
      "(Use only information found in `project_plan` for this page unlcess otherwise stated.)\n",
      "\n",
      "## Custom CSS rules\n",
      "- Prefer the provided custom CSS utilities/classes in the project\n",
      "- If the page requires styles not covered by the custom CSS:\n",
      "    - You my define miniimal additional CSS classes yourself, but they must live inside the page file.\n",
      "    - Do not create or import separate CSS files.\n",
      "    - Do not use inline `style={...}` / `style=\"...\"` except for truly one-off accessibility fixes.\n",
      "    - Keep any local CSS small and well-named (BEM-ish or utility-like).\n",
      "\n",
      "## Constraints and Safety\n",
      "- vite context: don't use `process.env`, `require`, `module`, `__dirname` or Node APIs.\n",
      "- Keep dependencies to standard frameworks/runtime only; no third-party UI libs.\n",
      "- **UI focus** minimize logic-avoid complex state, effects, or data fetching.\n",
      "    - Only basic handlers and small, deterministic helpers.\n",
      "    - Mock any needed data with small locla constants.\n",
      "- Keep the file self-contained.\n",
      "- Code must be lintable and strict (use types if TS).\n",
      "\n",
      "## Output format (strict)\n",
      "REturn **exactly one** fenced code block. No text before/after, no extra fences, no JSON wrappers.\n",
      "```code```\n",
      "\n",
      "## Quality checklist (you must satisfy before returning code)\n",
      "- Page content is sourced from `project_plan.pages` for the given `page_name`.\n",
      "- Navigation links use routes to other pages resolved from `project_plan.pages`.\n",
      "- **UI Focus**: minimal logic only (simple handlers, tiny helpers, mocked local data).\n",
      "- Accessible: semantic landmarks, labels, alt text, focus order.\n",
      "- No dead code; no unused imports; no console logs.\n",
      "- Compiles in a fresh Vite app.\n",
      "## React Conventions\n",
      "- Functional component with hooks only.\n",
      "- If `language = typescript, add explicit prop types and narrow any inferred shapes as needed.\n",
      "- Do not using `useEffect` unless strictly necessary.\n",
      "\n",
      "## React File skeleton\n",
      "- One file exporting **default** page component:\n",
      "`export default function <Name>Page() {...}`\n",
      "- Optional small local subcomponents within the same file.\n",
      "\n",
      "## React Local CSS (only when custom CSS is insufficient)\n",
      "- Add a `<style>` element **inside** your returned JSX. Example pattern:\n",
      "```jsx\n",
      "<style>\n",
      "`\n",
      ".nb-local-section { margin-block: 1rem;}\n",
      ".nb-local-grid {display: grid; gap: 1rem; grid-template-columns: repeat(auto-fit, minmax(200px, 1fr));}\n",
      "`\n",
      "</style>\n",
      "```\n",
      "\n",
      "## React Imports:\n",
      "- Import only from \"react\" and \"react-router-dom\" when needed.\n",
      "- Use React Router v6+ API (competible with v7) for links:\n",
      "- Use <Link to=\"/...\"> instead of <a href=\"/...\">\n",
      "Writed to ../output/src/pages/HomePage.jsx\n",
      "Writed to ../output/src/pages/BookDetailPage.jsx\n",
      "Writed to ../output/src/pages/SearchPage.jsx\n"
     ]
    }
   ],
   "source": [
    "# Page Generation\n",
    "page_plan = read_json(f\"{output_path}/project/project-plan-react-js-multi.json\")\n",
    "page_gen_common_sys = load_prompt_template(\"../prompts/page/gen/common.md\")\n",
    "page_gen_react_sys = load_prompt_template(\"../prompts/page/gen/react-only.md\")\n",
    "page_gen_sys_prompt = page_gen_common_sys + page_gen_react_sys\n",
    "page_gen_user = load_prompt_template(\"../prompts/page/gen/user.md\")\n",
    "\n",
    "print(page_gen_sys_prompt)\n",
    "\n",
    "for page in page_plan[\"pages\"]:\n",
    "    user_prompt = page_gen_user.format(CSS_VARIABLES=css_variables, CSS_SELECTORS=css_selectors, PROJECT_PLAN=json.dumps(page_plan), PAGE_NAME=page[\"name\"])\n",
    "    page_md_code = call_llm(user_instruction=user_prompt, system_instruction=page_gen_sys_prompt)\n",
    "    write_file(page_md_code, f\"{output_path}/{page['filepath']}\")"
   ]
  }
 ],
 "metadata": {
  "kernelspec": {
   "display_name": "Python 3",
   "language": "python",
   "name": "python3"
  },
  "language_info": {
   "codemirror_mode": {
    "name": "ipython",
    "version": 3
   },
   "file_extension": ".py",
   "mimetype": "text/x-python",
   "name": "python",
   "nbconvert_exporter": "python",
   "pygments_lexer": "ipython3",
   "version": "3.11.2"
  }
 },
 "nbformat": 4,
 "nbformat_minor": 5
}
